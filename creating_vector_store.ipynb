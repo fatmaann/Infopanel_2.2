{
 "cells": [
  {
   "cell_type": "code",
   "execution_count": 1,
   "id": "20582418",
   "metadata": {},
   "outputs": [],
   "source": [
    "import pandas as pd"
   ]
  },
  {
   "cell_type": "markdown",
   "id": "f8c2db2c",
   "metadata": {},
   "source": [
    "# Для планировщика"
   ]
  },
  {
   "cell_type": "markdown",
   "id": "ad975724",
   "metadata": {},
   "source": [
    "вопросы"
   ]
  },
  {
   "cell_type": "code",
   "execution_count": 2,
   "id": "37b5f11e",
   "metadata": {},
   "outputs": [],
   "source": [
    "tasks = [\"Покажи лучший офис по обслуживанию клиентов\",\n",
    "         \"Проанализируй офис n на предмет динамики клиентопотока за апрель 2025 года и предложи актуальный режим работы офиса\",\n",
    "         \"Определи причину длительного ожидания в офисе n\",\n",
    "         \"Сформируй отчёт за апрель по талонам для офиса n\",\n",
    "         \"Как можно оптимизировать работу офиса n чтобы сократить время ожидания клиентов\"]"
   ]
  },
  {
   "cell_type": "markdown",
   "id": "feb5bc92",
   "metadata": {},
   "source": [
    "ответы"
   ]
  },
  {
   "cell_type": "code",
   "execution_count": 3,
   "id": "6edf54c9",
   "metadata": {},
   "outputs": [],
   "source": [
    "instructions = [\"\"\"Найти в таблице Coupons какой офис имеет наименьшее среднее значение по времени (минуты) ожидания клиентов\n",
    "                Найти в таблице Coupons какой офис имеет наименьшее среднее значение по скорости (минуты) обслуживания клиентов\n",
    "                Найти в таблице Coupons у какого офиса наибольшее количество талонов\n",
    "                \"\"\",\n",
    "\"\"\"Найти количество различных талонов в таблице Coupons где месяц = 4 и ВСП имеет значение n\n",
    "Найти в таблице Coupons среднее количество талонов (полей, т.к. отдельной колонки нет) в офисе n отдельно для понедельника, вторника, среды, четверга, пятницы, субботы и воскресенья\n",
    "Найти в таблице Coupons среднее время (минуты) ожидания в минутах талонов в офисе n отдельно для понедельника, вторника, среды, четверга, пятницы, субботы и воскресенья\n",
    "Найти в таблице Coupons в какие часы ожидание талонов в офисе n наибольшее (отсортируй часы по убыванию среднего времени обслуживания)\n",
    "\"\"\",\n",
    "\"\"\"Проверь в таблице Queues, что у офиса n кпэ больше 90\n",
    "Найти в таблице Employees_busyness среднее время (минуты) простоя по должностям для офиса n\n",
    "Найти в таблице Employees_busyness среднее время (минуты) активности по должностям для офиса n\n",
    "Найти должности в таблице Coupons у кого максимальное время (минуты) обслуживания для офиса n\n",
    "Найти должности в таблице Coupons у кого максимальное время (минуты) ожидания для офиса n\n",
    "\"\"\",\n",
    "\"\"\"Найти среднее время ожидания для каждой категории талонов за апрель для офиса n по таблице Coupons\n",
    "Найти максимальное (не минимальное!) время ожидания для каждой категории талонов за апрель для офиса n по таблице Coupons\n",
    "Найти суммарное количество талонов для каждой категории талонов за апрель для офиса n по таблице Coupons\n",
    "Найти среднее время обслуживания для каждой категории талонов за апрель для офиса n по таблице Coupons\n",
    "Найти суммарное количество талонов и суммарное количество обслуженных талонов за апрель для офиса по таблице и посчитать процент обслуженных талонов\n",
    "\"\"\",\n",
    "\"\"\"Найти в таблице Queues, что у офиса n значение кпэ\n",
    "Найти в таблице Employees_busyness среднее время (минуты) простоя по должностям для офиса n\n",
    "Найти в таблице Employees_busyness среднее время (минуты) активности по должностям для офиса n\n",
    "Найти должности в таблице Coupons у кого максимальное время (минуты) обслуживания для офиса n\n",
    "Найти должности в таблице Coupons у кого максимальное время (минуты) ожидания для офиса n\n",
    "Найти количество различных талонов в таблице Coupons где месяц = 4 и ВСП имеет значение n\n",
    "Найти в таблице Coupons среднее время (минуты) ожидания в минутах талонов в офисе n отдельно для понедельника, вторника, среды, четверга, пятницы, субботы и воскресенья\n",
    "Найти в таблице Coupons в какие часы ожидание талонов в офисе n наибольшее (отсортируй часы по убыванию среднего времени обслуживания)\n",
    "\"\"\"\n",
    "]"
   ]
  },
  {
   "cell_type": "code",
   "execution_count": 4,
   "id": "10117cdc",
   "metadata": {},
   "outputs": [],
   "source": [
    "test_dict = {\"task\": tasks, \"instruction\": instructions}\n",
    "test_df = pd.DataFrame.from_dict(test_dict)\n",
    "test_df.to_excel(\"assistant_instructions_test.xlsx\", index=False)"
   ]
  },
  {
   "cell_type": "code",
   "execution_count": 5,
   "id": "4cc00245",
   "metadata": {},
   "outputs": [
    {
     "name": "stderr",
     "output_type": "stream",
     "text": [
      "C:\\Users\\Huawei\\AppData\\Local\\Temp\\ipykernel_10088\\789326996.py:13: LangChainDeprecationWarning: The class `GigaChatEmbeddings` was deprecated in LangChain 0.3.5 and will be removed in 1.0. An updated version of the class exists in the :class:`~langchain-gigachat package and should be used instead. To use it run `pip install -U :class:`~langchain-gigachat` and import as `from :class:`~langchain_gigachat import GigaChatEmbeddings``.\n",
      "  giga_embeddings = GigaChatEmbeddings(\n"
     ]
    },
    {
     "name": "stdout",
     "output_type": "stream",
     "text": [
      "Метаданные добавлены\n",
      "База знаний инициализирована\n",
      "Документы проиндексированы\n",
      "База знаний создана\n"
     ]
    }
   ],
   "source": [
    "from langchain.vectorstores import FAISS\n",
    "from langchain.docstore.document import Document\n",
    "from langchain_community.docstore.in_memory import InMemoryDocstore\n",
    "from uuid import uuid4\n",
    "import faiss\n",
    "from langchain_community.embeddings import GigaChatEmbeddings\n",
    "from dotenv import load_dotenv\n",
    "import os\n",
    "\n",
    "load_dotenv(dotenv_path='./backend/.env')\n",
    "giga_key = os.getenv(\"GIGA_API_KEY\")\n",
    "\n",
    "giga_embeddings = GigaChatEmbeddings(\n",
    "    credentials=giga_key,\n",
    "    verify_ssl_certs=False,\n",
    "    scope='GIGACHAT_API_CORP'\n",
    ")\n",
    "\n",
    "\n",
    "documents = []\n",
    "for question, instruction in zip(test_df[\"task\"], test_df[\"instruction\"]):\n",
    "      document = Document(page_content=question, \n",
    "                          metadata={\"instruction\": instruction})\n",
    "      documents.append(document)\n",
    "print(\"Метаданные добавлены\")\n",
    "\n",
    "#создание индекса\n",
    "index = faiss.IndexFlat(len(giga_embeddings.embed_query(\"слово\")))\n",
    "\n",
    "#создание векторной базы знаний\n",
    "vector_store = FAISS(embedding_function=giga_embeddings, index=index, docstore=InMemoryDocstore(), index_to_docstore_id={})\n",
    "print(\"База знаний инициализирована\")\n",
    "\n",
    "#индексирование документов\n",
    "uuids = [str(uuid4()) for _ in range(len(documents))]\n",
    "print(\"Документы проиндексированы\")\n",
    "\n",
    "vector_store.add_documents(documents=documents, ids=uuids)\n",
    "print(\"База знаний создана\")\n",
    "\n",
    "vector_store.save_local(\"./backend/question_instructions_test\")"
   ]
  },
  {
   "cell_type": "code",
   "execution_count": 6,
   "id": "b94c4d93",
   "metadata": {},
   "outputs": [],
   "source": [
    "vector_store = FAISS.load_local(\"./backend/question_instructions_test\", giga_embeddings, allow_dangerous_deserialization=True)"
   ]
  },
  {
   "cell_type": "code",
   "execution_count": 7,
   "id": "7158b98f",
   "metadata": {},
   "outputs": [],
   "source": [
    "question = \"Как можно оптимизировать работу офиса 026 чтобы сократить время ожидания клиентов\""
   ]
  },
  {
   "cell_type": "code",
   "execution_count": 8,
   "id": "9eed5293",
   "metadata": {},
   "outputs": [
    {
     "name": "stdout",
     "output_type": "stream",
     "text": [
      "page_content='Как можно оптимизировать работу офиса n чтобы сократить время ожидания клиентов' metadata={'instruction': 'Найти в таблице Queues, что у офиса n значение кпэ\\nНайти в таблице Employees_busyness суммарное время (минуты) простоя по должностям для офиса n\\nНайти в таблице Employees_busyness суммарное время (минуты) активности по должностям для офиса n\\nНайти должности в таблице Coupons у кого максимальное время (минуты) обслуживания для офиса n\\nНайти должности в таблице Coupons у кого максимальное время (минуты) ожидания для офиса n\\nНайти количество различных талонов в таблице Coupons где месяц = 4 и ВСП имеет значение n\\nНайти в таблице Coupons среднее время (минуты) ожидания в минутах талонов в офисе n отдельно для понедельника, вторника, среды, четверга, пятницы, субботы и воскресенья\\nНайти в таблице Coupons в какие часы ожидание талонов в офисе n наибольшее (отсортируй часы по убыванию среднего времени обслуживания)\\n'}\n"
     ]
    },
    {
     "data": {
      "text/plain": [
       "'Найти в таблице Queues, что у офиса n значение кпэ\\nНайти в таблице Employees_busyness суммарное время (минуты) простоя по должностям для офиса n\\nНайти в таблице Employees_busyness суммарное время (минуты) активности по должностям для офиса n\\nНайти должности в таблице Coupons у кого максимальное время (минуты) обслуживания для офиса n\\nНайти должности в таблице Coupons у кого максимальное время (минуты) ожидания для офиса n\\nНайти количество различных талонов в таблице Coupons где месяц = 4 и ВСП имеет значение n\\nНайти в таблице Coupons среднее время (минуты) ожидания в минутах талонов в офисе n отдельно для понедельника, вторника, среды, четверга, пятницы, субботы и воскресенья\\nНайти в таблице Coupons в какие часы ожидание талонов в офисе n наибольшее (отсортируй часы по убыванию среднего времени обслуживания)\\n'"
      ]
     },
     "execution_count": 8,
     "metadata": {},
     "output_type": "execute_result"
    }
   ],
   "source": [
    "result = vector_store.similarity_search(question, k=1)[0]\n",
    "print(result)\n",
    "result = result.metadata[\"instruction\"]\n",
    "result"
   ]
  }
 ],
 "metadata": {
  "kernelspec": {
   "display_name": "Python 3",
   "language": "python",
   "name": "python3"
  },
  "language_info": {
   "codemirror_mode": {
    "name": "ipython",
    "version": 3
   },
   "file_extension": ".py",
   "mimetype": "text/x-python",
   "name": "python",
   "nbconvert_exporter": "python",
   "pygments_lexer": "ipython3",
   "version": "3.12.7"
  }
 },
 "nbformat": 4,
 "nbformat_minor": 5
}
