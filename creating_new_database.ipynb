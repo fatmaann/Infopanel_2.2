{
 "cells": [
  {
   "cell_type": "markdown",
   "id": "cef0c24e",
   "metadata": {},
   "source": [
    "# Создание новой базы данных"
   ]
  },
  {
   "cell_type": "code",
   "execution_count": 1,
   "id": "f8c6aa21",
   "metadata": {},
   "outputs": [],
   "source": [
    "import pandas as pd\n",
    "import sqlite3"
   ]
  },
  {
   "cell_type": "markdown",
   "id": "c70613da",
   "metadata": {},
   "source": [
    "исправление формата даты в файле клиентопотока"
   ]
  },
  {
   "cell_type": "code",
   "execution_count": 2,
   "id": "1814f337",
   "metadata": {},
   "outputs": [],
   "source": [
    "# Загрузка данных из Excel\n",
    "df = pd.read_excel('excel_files/Clients_traffic.xlsx')\n",
    "\n",
    "# Разделение даты и времени\n",
    "split_data = df['Период'].str.split(n=1, expand=True)\n",
    "split_data.columns = ['date', 'time']\n",
    "\n",
    "# Замена точек на двоеточия во времени (если время есть)\n",
    "split_data['time'] = split_data['time'].str.replace('.', ':', regex=False)\n",
    "\n",
    "# Объединение даты и времени\n",
    "df['cleaned_date'] = split_data['date'] + ' ' + split_data['time'].fillna('')\n",
    "df['cleaned_date'] = df['cleaned_date'].str.strip()\n",
    "\n",
    "# Преобразование в datetime\n",
    "df['Период'] = pd.to_datetime(df['cleaned_date'], dayfirst=True, errors='coerce')\n",
    "\n",
    "# Удаление временного столбца (опционально)\n",
    "df.drop('cleaned_date', axis=1, inplace=True)\n",
    "\n",
    "df.to_excel(\"excel_files/Clients_traffic_date_normalized.xlsx\", index=False)"
   ]
  },
  {
   "cell_type": "code",
   "execution_count": 3,
   "id": "a1b3f54f",
   "metadata": {},
   "outputs": [],
   "source": [
    "def _split_datetime_column(df: pd.DataFrame, col_name: str) -> pd.DataFrame:\n",
    "    \"\"\"Разбиение одного столбца с датой на шесть столбцов\"\"\"\n",
    "\n",
    "    # Создаем копию DataFrame чтобы избежать предупреждений о настройках\n",
    "    df = df.copy()\n",
    "    \n",
    "    # Конвертируем в datetime с обработкой ошибок\n",
    "    df[col_name] = pd.to_datetime(\n",
    "        df[col_name],\n",
    "        format='%d-%m-%Y %H:%M:%S',\n",
    "        errors='coerce'\n",
    "    )\n",
    "    \n",
    "    # Создаем новые столбцы\n",
    "    df['год'] = df[col_name].dt.year.astype('Int64')\n",
    "    df['месяц'] = df[col_name].dt.month.astype('Int64')\n",
    "    df['день'] = df[col_name].dt.day.astype('Int64')\n",
    "    df['час'] = df[col_name].dt.hour.astype('Int64')\n",
    "    df['минута'] = df[col_name].dt.minute.astype('Int64')\n",
    "    df['секунда'] = df[col_name].dt.second.astype('Int64')\n",
    "    \n",
    "    # Удаляем исходный столбец\n",
    "    return df.drop(columns=[col_name])\n",
    "\n",
    "\n",
    "def add_weekdays_column(df, column_name, first_day='вторник'):\n",
    "    \"\"\"\n",
    "    Добавляет колонку с днями недели в датафрейм на основе имеющейся колонки с числами.\n",
    "    \n",
    "    Параметры:\n",
    "    - df: входящий датафрейм\n",
    "    - column_name: название колонки с числами (днями месяца)\n",
    "    - first_day: день недели, соответствующий первому числу месяца (по умолчанию \"Вторник\")\n",
    "    \"\"\"\n",
    "    # Множество дней недели\n",
    "    days_of_week = ['понедельник', 'вторник', 'среда', 'четверг', 'пятница', 'суббота', 'воскресенье']\n",
    "    \n",
    "    # Определим индекс дня недели для первого числа месяца\n",
    "    index_first_day = days_of_week.index(first_day)\n",
    "    \n",
    "    # Максимальное количество дней в месяце определяется максимальным числом в колонке\n",
    "    max_days_in_month = df[column_name].max()\n",
    "    \n",
    "    # Создаем полную карту соответствия дней месяца и дней недели\n",
    "    full_days = []\n",
    "    for i in range(max_days_in_month):\n",
    "        full_days.append((index_first_day + i) % 7)\n",
    "        \n",
    "    # Формирование словаря {номер дня : день недели}\n",
    "    mapping_dict = {i+1: days_of_week[d] for i, d in enumerate(full_days)}\n",
    "    \n",
    "    # Применение словаря к колонке\n",
    "    df['день недели'] = df[column_name].apply(lambda x: mapping_dict.get(x))\n",
    "    \n",
    "    return df\n",
    "\n",
    "\n",
    "def _prepare_datetime_files(datetime_files_and_columns: dict):\n",
    "\n",
    "    for file_path, datetime_column in datetime_files_and_columns.items():\n",
    "        df = pd.read_excel(f\"excel_files/{file_path}\")\n",
    "        datetime_correct_df = _split_datetime_column(df, datetime_column)\n",
    "        correct_df = add_weekdays_column(datetime_correct_df, 'день')\n",
    "        # Помечаем, что это скорректированный файл\n",
    "        unique_df_name = f\"{file_path.split('.')[0]}_corrected.xlsx\"\n",
    "        correct_df.to_excel(f\"excel_files/{unique_df_name}\", index=False)\n",
    "\n",
    "\n",
    "def create_database(db_name: str, all_file_paths: list, datetime_files_and_columns: dict):\n",
    "    \n",
    "    _prepare_datetime_files(datetime_files_and_columns)\n",
    "    \n",
    "\n",
    "    # Словарь для хранения данных\n",
    "    all_data = {}\n",
    "\n",
    "    # Чтение данных из всех файлов\n",
    "    for file in all_file_paths:\n",
    "        data = pd.read_excel(f\"excel_files/{file}\", sheet_name=None)  # Чтение всех листов\n",
    "        for sheet_name, df in data.items():\n",
    "            unique_table_name = f\"{file.replace(\"_corrected\", \"\").split('.')[0]}\"  # Уникальное имя таблицы\n",
    "            all_data[unique_table_name] = df\n",
    "\n",
    "    # Создание базы данных SQLite\n",
    "    conn = sqlite3.connect(db_name)\n",
    "\n",
    "    # Запись данных в базу данных\n",
    "    for table_name, df in all_data.items():\n",
    "        print(f\"Записываю таблицу: {table_name}\")  # Отладочный вывод\n",
    "        df.to_sql(table_name, conn, if_exists=\"replace\", index=False)\n",
    "\n",
    "    # Закрытие подключения\n",
    "    conn.close()\n",
    "\n",
    "    print(\"База данных успешно создана\")"
   ]
  },
  {
   "cell_type": "code",
   "execution_count": 4,
   "id": "13270933",
   "metadata": {},
   "outputs": [],
   "source": [
    "all_file_paths_example = [\"Clients_traffic_date_normalized_corrected.xlsx\",\n",
    "              \"Coupons_corrected.xlsx\",\n",
    "              \"Coupons_time_distribution.xlsx\",\n",
    "              \"Employees_busyness_corrected.xlsx\",\n",
    "              \"Employees_productivity_corrected.xlsx\",\n",
    "              \"Queues.xlsx\"]\n",
    "datetime_files_and_columns_example = {\"Clients_traffic_date_normalized.xlsx\": \"Период\",\n",
    "                           \"Coupons.xlsx\": \"Время события\",\n",
    "                           \"Employees_busyness.xlsx\": \"Дата\",\n",
    "                           \"Employees_productivity.xlsx\": \"Дата\"}"
   ]
  },
  {
   "cell_type": "code",
   "execution_count": 5,
   "id": "9ca05a89",
   "metadata": {},
   "outputs": [
    {
     "name": "stdout",
     "output_type": "stream",
     "text": [
      "Записываю таблицу: Clients_traffic_date_normalized\n",
      "Записываю таблицу: Coupons\n",
      "Записываю таблицу: Coupons_time_distribution\n",
      "Записываю таблицу: Employees_busyness\n",
      "Записываю таблицу: Employees_productivity\n",
      "Записываю таблицу: Queues\n",
      "База данных успешно создана\n"
     ]
    }
   ],
   "source": [
    "create_database(db_name=\"database_datetime_corrected.sqlite\",\n",
    "                all_file_paths=all_file_paths_example,\n",
    "                datetime_files_and_columns=datetime_files_and_columns_example\n",
    ")"
   ]
  }
 ],
 "metadata": {
  "kernelspec": {
   "display_name": "Python 3",
   "language": "python",
   "name": "python3"
  },
  "language_info": {
   "codemirror_mode": {
    "name": "ipython",
    "version": 3
   },
   "file_extension": ".py",
   "mimetype": "text/x-python",
   "name": "python",
   "nbconvert_exporter": "python",
   "pygments_lexer": "ipython3",
   "version": "3.12.7"
  }
 },
 "nbformat": 4,
 "nbformat_minor": 5
}
